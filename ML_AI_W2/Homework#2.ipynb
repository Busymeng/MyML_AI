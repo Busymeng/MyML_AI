{
 "cells": [
  {
   "cell_type": "markdown",
   "id": "41050431",
   "metadata": {},
   "source": [
    "# Homework 2\n",
    "## ISS-distance, USGS-Earthquake, and other API Challenges\n",
    "\n",
    "### Task 0a\n",
    "It is to try out the cells at the top of the starter notebook, hw2pr1.ipynb.\n",
    "- This includes a few calls… and a lat/long challenge… relating to my \"demo\" page (with numbers and snacks), and then a JSON-serving API for the International Space Station\n",
    "\n",
    "- If you get an \"SSL\" or \"HTTPS\" or certificate error when you use requests to grab our simple, static html \"demo.html\" page, there are a number of possible fixes:\n",
    "    - On the Mac: Go to applications - Python 3.11 (or your version) - and double-click on Install Certificates.command\n",
    "    + On Windows: run pip install pip_system_certs (with the appropriate version of pip)\n",
    "    + OR! Try this requests call instead. Note the verify=False\n",
    "    + result = requests.get('https://www.cs.hmc.edu/~dodds/demo.html', verify=False)\n",
    "    + This may allow it to work with only a warning. Similar for hw1pr3.\n",
    "    + This is avoiding using the security that the secure http protocol provides (that is, https).\n",
    "    + For our purposes, this is totally ok."
   ]
  },
  {
   "cell_type": "code",
   "execution_count": null,
   "id": "9b89f7ec",
   "metadata": {},
   "outputs": [],
   "source": [
    "## Put your work here.\n"
   ]
  },
  {
   "cell_type": "markdown",
   "id": "0706fea7",
   "metadata": {},
   "source": [
    "### Task 0b\n",
    "It is  to run and develop an understanding of the the example API calls to the USGS: The US Geological Survey gives API access to their record of earthquakes.\n",
    "- Here is the [API Documentation](https://earthquake.usgs.gov/fdsnws/event/1/) Try the examples!"
   ]
  },
  {
   "cell_type": "code",
   "execution_count": null,
   "id": "1ed2d900",
   "metadata": {},
   "outputs": [],
   "source": [
    "## Put your work here."
   ]
  },
  {
   "cell_type": "markdown",
   "id": "4d29f4e6",
   "metadata": {},
   "source": [
    "With these tasks as background, you're ready for some API-explorations of your own.\n",
    "\n",
    "### Task 1-2\n",
    "To write two more functions that use the ISS API.\n",
    "+ ``ISS_now()`` which will find and return the ISS's lat/long (as floats)\n",
    "+ ``ISS_distance()`` which will return the distance of the ISS from a city of your choice (a constant city, not a variable) This will require finding and adapting the <i>haversine</i> distance for global distances (using lat/long) ...\n",
    "- Here is the Haversine distance:\n"
   ]
  },
  {
   "cell_type": "code",
   "execution_count": null,
   "id": "fe06a02a",
   "metadata": {},
   "outputs": [],
   "source": [
    "from math import *\n",
    "\n",
    "def haversine(lat1, long1, lat2, long2):\n",
    "    \"\"\"\n",
    "    Calculate the great circle distance in kilometers between two points\n",
    "    on the earth (specified in decimal degrees)\n",
    "    \"\"\"\n",
    "    # convert decimal degrees to radians\n",
    "    long1, lat1, long2, lat2 = map(radians, [long1, lat1, long2, lat2])\n",
    "    # haversine formula\n",
    "    dlong = long2 - long1\n",
    "    dlat = lat2 - lat1\n",
    "    trig = sin(dlat/2)**2 + cos(lat1) * cos(lat2) * sin(dlong/2)**2\n",
    "    # Radius of earth. Use 3956 for miles. 6371 for km.\n",
    "    radius = 3956 # we'll use miles!\n",
    "    return radius * 2 * asin(sqrt(trig))"
   ]
  },
  {
   "cell_type": "code",
   "execution_count": null,
   "id": "a0046d35",
   "metadata": {},
   "outputs": [],
   "source": [
    "# Use the ISS examples in class to write a function, named \n",
    "#     \n",
    "#      ISS_now()\n",
    "#\n",
    "# that uses requests to return the current latitude and longitude -- as floating-point values -- right now.\n",
    "# Be sure to test it! "
   ]
  },
  {
   "cell_type": "code",
   "execution_count": null,
   "id": "b39cf399",
   "metadata": {},
   "outputs": [],
   "source": [
    "##  Put your code here.\n"
   ]
  },
  {
   "cell_type": "code",
   "execution_count": null,
   "id": "b7f28c08",
   "metadata": {},
   "outputs": [],
   "source": [
    "# \n",
    "# Once your ISS_now() function is working, write a new function\n",
    "#\n",
    "#       ISS_distance()\n",
    "#\n",
    "# which uses ISS_now to obtain the lat/long of the ISS and then\n",
    "# uses the haversine distance (look up a Python implementation or use one of ours... :)\n",
    "# to compute the ISS's distance from a city of your choice.\n",
    "#\n",
    "# The haversine distance computes the \"great circle\" distance from two points on the globe\n",
    "#     using latitude and longitude  \n",
    "#"
   ]
  },
  {
   "cell_type": "code",
   "execution_count": null,
   "id": "40a637ac",
   "metadata": {},
   "outputs": [],
   "source": [
    "##  Put your code here.\n"
   ]
  },
  {
   "cell_type": "code",
   "execution_count": null,
   "id": "5fa40474",
   "metadata": {},
   "outputs": [],
   "source": [
    "#\n",
    "# Open-ended possibility:  \n",
    "#    (a) create a new function ISS_distance(place) that takes in a place name\n",
    "#    (b) find a service by which you can look up the lat + long using the place name\n",
    "#         (b*)  I'm not sure how to do this - it's exploratory! \n",
    "#    (c) then, continue with the previous computation to find the ISS distance! :) \n",
    "#"
   ]
  },
  {
   "cell_type": "code",
   "execution_count": null,
   "id": "1969c43b",
   "metadata": {},
   "outputs": [],
   "source": [
    "##  Put your code here.\n"
   ]
  },
  {
   "cell_type": "markdown",
   "id": "cb9b3b92",
   "metadata": {},
   "source": [
    "### Task 3-4\n",
    "To write two functions that use the USGS API.\n",
    "+ ``Quake_loop()`` which will loop over a parameter of your choice, print a formatted list of quake-count data, and return that list\n",
    "+ ``Quake_compare(place1, place2)`` which will ask - and answer - a comparative question about \"quakiness\" for twp different places, using the quake data... \n",
    "- One note: You can google for \"Claremont lat long\" and you'll find:\n",
    "    - Claremont's latitude: 34.0967 (N is >0)\n",
    "    + Claremont's longitude: -117.7198 (E is >0)"
   ]
  },
  {
   "cell_type": "code",
   "execution_count": null,
   "id": "3afe12b8",
   "metadata": {},
   "outputs": [],
   "source": [
    "#\n",
    "# Use the USGS (earthquake) examples in class to write a function, named \n",
    "#     \n",
    "#      Quake_loop()\n",
    "#\n",
    "# that uses requests within a loop of your own design in order to\n",
    "#   + obtain at least 10 distinct, comparable data elements (counts are encouraged; other items ok)\n",
    "#   + as a parameter is varying, e.g., magnitude, time, radius, location, etc.\n",
    "#   + it should collect all of those data elements into a list\n",
    "#   + and render the list in a neatly formatted chart (f-strings welcome; not required)\n",
    "#\n",
    "#   + in addition, include a overall reflection on the results, as well as a comment on additional effort\n",
    "#     that could expand your results (you need not run it), and any concerns or caveats about the data...\n",
    "#   + feel free to copy-paste-edit the markdown \"reflection-template,\" above  "
   ]
  },
  {
   "cell_type": "code",
   "execution_count": null,
   "id": "e831fcf8",
   "metadata": {},
   "outputs": [],
   "source": [
    "## Put your work here.\n"
   ]
  },
  {
   "cell_type": "code",
   "execution_count": null,
   "id": "a14e75d7",
   "metadata": {},
   "outputs": [],
   "source": [
    "# \n",
    "# Once your Quake_loop() function is working, write a new function\n",
    "#\n",
    "#       Quake_compare(place1, place2)\n",
    "#\n",
    "# where place1 should be a 2-element tuple:  (latitude1, longitude1)\n",
    "# and  place2 should be a 2-element tuple:  (latitude2, longitude2)\n",
    "#\n",
    "# and then your function should compare which of the two places is \"quakier\" (not a real word)\n",
    "# for a given time span (you choose), and a given strength-of-quakes (you choose), and\n",
    "# for a specific radius around each of the two places (you choose)\n",
    "#\n",
    "# As is clear, there is lots of freedom to design a \"comparison of quakiness\" -- wonderful!\n",
    "# Feel free to start somewhere, and tune the results.\n",
    "#\n",
    "# Your function should print the results it finds (in this case, it's not important to return\n",
    "# and specific value -- though you're encouraged (not required) to create a helper function and \n",
    "# then call it twice for the two locations! (That helper function would need a return value!)\n",
    "#"
   ]
  },
  {
   "cell_type": "code",
   "execution_count": null,
   "id": "25fb2fe6",
   "metadata": {},
   "outputs": [],
   "source": [
    "## Put your work here.\n"
   ]
  },
  {
   "cell_type": "markdown",
   "id": "0cf0a90a",
   "metadata": {},
   "source": [
    "### Task 5\n",
    "\n",
    "As a final example of using APIs with Python's ``requests`` library, choose one of these open-ended suggestions or create a variant of your own design...\n",
    "+ More ISS! - include an API call for lat/long look up of a geographic location\n",
    "+ More Quake! - create a <i>nested</i> for loop of calls, and from its results, a <i>2d</i> table of earthquake data\n",
    "+ More APIs! - ask-and-answer your own question with the [Poke API](https://pokeapi.co/) or [one of the many, many more!](https://medium.com/codex/15-fun-and-interesting-apis-to-use-for-your-next-coding-project-in-2022-86a4ff3a2742) \n",
    "    + Perhaps there's an API that overlaps another class or project or interest of yours... \n",
    "    + In using your own API, your investigation should involve at least one for loop that is aggregating or comparing results...\n",
    "\n",
    "An important part of the power of API use is gathering a _specific slice_ of data from an otherwise too-large ocean of raw material. That _specific slice_ allows you to express a particular question, obtain its relevant data, and see if it's enough to offer an answer.\n",
    "\n",
    "In any case, it will lead to more questions!  Good luck API'ing!!"
   ]
  },
  {
   "cell_type": "code",
   "execution_count": null,
   "id": "2570ed2c",
   "metadata": {},
   "outputs": [],
   "source": [
    "## Put your work here.\n"
   ]
  },
  {
   "cell_type": "markdown",
   "id": "fa6cb564",
   "metadata": {},
   "source": [
    "### Bigger-projects? (Optional)\n",
    "There are other APIs that you may want to use and that require authentication -- these are wonderful final-project possibilities. For example,\n",
    "+ Spotify API analysis has been popular.\n",
    "+ Sportswebsite APIs (NBA in particular; others, too) have worked well.\n",
    "+ There have been dating-app APIs and scraping projects\n",
    "+ There have been translation APIs, Google maps (and other Google-provided APIs), as well as lots of special-purposes services that have been incorporated into larger projects...\n",
    "+ More and more often, software is assembled by connecting existing components\n",
    "    - as a result, APIs are ubiquitous and important!"
   ]
  },
  {
   "cell_type": "code",
   "execution_count": null,
   "id": "84eb7090",
   "metadata": {},
   "outputs": [],
   "source": [
    "## Put your work here.\n"
   ]
  },
  {
   "cell_type": "markdown",
   "id": "4d0bc3d4",
   "metadata": {},
   "source": [
    "### Other extras! (Optional)\n",
    "- Introduce other filtering on the earthquake results or \n",
    "- expand into other features within the events (there are non-earthquakes, e.g., tsunamis, ice quakes, and a few others… (Warning: API-use can be addictive!) \n",
    "\n",
    "Whatever extensions you create, please be sure to highlight what you've done and your results, in a triple-quoted\n",
    "string or comment near your other quake functions!"
   ]
  },
  {
   "cell_type": "code",
   "execution_count": null,
   "id": "71b3f6f8",
   "metadata": {},
   "outputs": [],
   "source": [
    "### Put your work here."
   ]
  }
 ],
 "metadata": {
  "kernelspec": {
   "display_name": "Python 3 (ipykernel)",
   "language": "python",
   "name": "python3"
  },
  "language_info": {
   "codemirror_mode": {
    "name": "ipython",
    "version": 3
   },
   "file_extension": ".py",
   "mimetype": "text/x-python",
   "name": "python",
   "nbconvert_exporter": "python",
   "pygments_lexer": "ipython3",
   "version": "3.7.15"
  }
 },
 "nbformat": 4,
 "nbformat_minor": 5
}
