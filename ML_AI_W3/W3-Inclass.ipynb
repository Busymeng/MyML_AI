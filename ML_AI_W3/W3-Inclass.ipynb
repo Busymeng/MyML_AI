{
 "cells": [
  {
   "cell_type": "markdown",
   "metadata": {},
   "source": [
    "# Week 3:  Web-as-Output!\n",
    "\n",
    "Last week was dedicated to _consuming_ (or, perhaps, _gathering_) content **from** the web.\n",
    "\n",
    "This week and this notebook invites you into the world of _producing_ content for the web. The nice thing is\n",
    "  + the actual _producing_ happens in a scripting language\n",
    "  + and then the _formatting_ for the web can be done automatically\n",
    "  + whew!"
   ]
  },
  {
   "cell_type": "markdown",
   "metadata": {},
   "source": [
    "#### <font style=\"color:rgb(180,120,10);\"><b>Part 1</b>:  &nbsp; \"real\" webscraping...</font>\n",
    "\n",
    "This problem bridges input from the web with output to the web. Last week's use of APIs found and interpreted **structured** data, mostly JSON.  (For pre-defined APIs, JSON is what's used, most of the time!)\n",
    "\n",
    "What if a site has information you'd like to use, but only has HTML, but not JSON? In this case, <tt>requests</tt> will provide the raw HTML (as a string) and it'll be up to us to extract the information we want! We'll use \n",
    "  + Python string-handling and <tt>string</tt> libraries, and\n",
    "  + Python's _regular expression_ <tt>re</tt> library, a mini-language for string-matching and -manipulating."
   ]
  },
  {
   "cell_type": "markdown",
   "metadata": {},
   "source": [
    "First, an example.  We want to programmatically access the _best snacks_ on the <u>definitive snacks page</u>, which is [here at this url](https://www.cs.hmc.edu/~dodds/demo.html)\n",
    "\n",
    "Alas, this snack-centric web service seems not to have a JSON API! We will have to grab the whole HTML text. HTML is always sent over as a huge string..."
   ]
  },
  {
   "cell_type": "code",
   "execution_count": 2,
   "metadata": {},
   "outputs": [
    {
     "name": "stdout",
     "output_type": "stream",
     "text": [
      "<Response [200]>\n"
     ]
    }
   ],
   "source": [
    "import requests\n",
    "\n",
    "url = \"https://www.cs.hmc.edu/~dodds/demo.html\"\n",
    "result = requests.get(url)\n",
    "print(f\"{result}\")"
   ]
  },
  {
   "cell_type": "code",
   "execution_count": 3,
   "metadata": {},
   "outputs": [
    {
     "name": "stdout",
     "output_type": "stream",
     "text": [
      "<html>\n",
      "  <head>\n",
      "    <title>My streamlined website</title>\n",
      "  </head>\n",
      "  <body>\n",
      "    <h1> Welcome! </h1>\n",
      "    <h2> The best numbers </h2>\n",
      "\n",
      "    <div id=\"numbers\">\n",
      "      <ol>\n",
      "\t<li class=\"answer\"> 42 </li>\n",
      "\t<li class=\"question5\"> 50 </li>\n",
      "\t<li class=\"yikes\"> <a\n",
      "  href=\"https://en.wikipedia.org/wiki/Rayo%27s_number\">Rayo's number</a> </li>\n",
      "      </ol>\n",
      "    </div>\n",
      "\n",
      "    <img src=\"./spam.jpg\" height=\"84px\">\n",
      "    <br><br>\n",
      "\n",
      "    <h2> The <s>best</s> only snacks </h2>\n",
      "\n",
      "    <div id=\"coffee\">\n",
      "      <ul>\n",
      "\t<li class=\"latte\"> Poptarts </li>\n",
      "\t<li class=\"latte\"> Chocolate </li>\n",
      "\t<li class=\"dedecaf\"> Coffee </li>\n",
      "      </ul>\n",
      "    </div>\n",
      "\n",
      "    <img src=\"./alien.png\" height=\"101px\">\n",
      "\n",
      "  </body>\n",
      "</html>\n",
      "\n",
      "\n",
      "<!--    <a href=\"./demo_cat.html\">Aliens <3 cats!</a>  -->\n",
      "\n",
      "\n"
     ]
    }
   ],
   "source": [
    "# Let's print the text we just grabbed:\n",
    "text = result.text\n",
    "print(text)"
   ]
  },
  {
   "cell_type": "markdown",
   "metadata": {},
   "source": [
    "Ooh... we notice that all of the snacks are inside <tt>&lt;li&gt;</tt> tags, which are _list items_\n",
    "\n",
    "So, we can grab the location of every instance of the substring <tt>\"&lt;li\"</tt> &nbsp; \n",
    "\n",
    "Let's see/remember what the <tt>find</tt> method does:"
   ]
  },
  {
   "cell_type": "code",
   "execution_count": 4,
   "metadata": {},
   "outputs": [
    {
     "data": {
      "text/plain": [
       "26"
      ]
     },
     "execution_count": 4,
     "metadata": {},
     "output_type": "execute_result"
    }
   ],
   "source": [
    "\"abcdefghijklmnopqrstuvwxy&jk\".find(\"j\",20)   # try 'a', 'j', 'hi', 'hit', and 'z' !  Also, ('j', 20)  nk!"
   ]
  },
  {
   "cell_type": "markdown",
   "metadata": {},
   "source": [
    "Ok!  Let's \n",
    "  + find the first instance of <tt>\"&lt;li\"</tt> and \n",
    "  + find the first instance of <tt>\"&lt;/li&gt;\"</tt> and\n",
    "  + print their indices and\n",
    "  + print the string between them!"
   ]
  },
  {
   "cell_type": "code",
   "execution_count": 5,
   "metadata": {},
   "outputs": [
    {
     "name": "stdout",
     "output_type": "stream",
     "text": [
      "(169, 192)\n",
      "\n",
      "<li class=\"answer\"> 42 \n"
     ]
    }
   ],
   "source": [
    "start_index = text.find(\"<li\")\n",
    "end_index = text.find(\"</li>\")\n",
    "print(f\"{(start_index, end_index) }\")\n",
    "print()\n",
    "\n",
    "# let's get the substring!\n",
    "substring = text[ start_index : end_index ]\n",
    "print(f\"{substring}\")"
   ]
  },
  {
   "cell_type": "markdown",
   "metadata": {},
   "source": [
    "Aha!  We got the number (42), but we got lots of stuff around it, too...\n",
    "\n",
    "Let's repeat the process, further inward. \n",
    "  + Note that we're using <tt>substring</tt> not the whole entire <tt>text</tt>!\n",
    "  + perhaps you see the character to find and slice away?!"
   ]
  },
  {
   "cell_type": "code",
   "execution_count": 6,
   "metadata": {},
   "outputs": [
    {
     "name": "stdout",
     "output_type": "stream",
     "text": [
      "18\n",
      "\n",
      " 42 \n"
     ]
    }
   ],
   "source": [
    "end_index = substring.find(\">\")\n",
    "print(f\"{end_index }\")\n",
    "print()\n",
    "\n",
    "# let's get the subsubstring! We're +1'ing this:\n",
    "subsubstring = substring[ end_index+1 : ]\n",
    "print(f\"{subsubstring}\")"
   ]
  },
  {
   "cell_type": "markdown",
   "metadata": {},
   "source": [
    "<b>Remember, it's a string!</b>"
   ]
  },
  {
   "cell_type": "code",
   "execution_count": 7,
   "metadata": {},
   "outputs": [
    {
     "name": "stdout",
     "output_type": "stream",
     "text": [
      "42\n"
     ]
    }
   ],
   "source": [
    "answer = int(subsubstring)   # Now, it's an int!\n",
    "print(f\"{answer%100}\")"
   ]
  },
  {
   "cell_type": "markdown",
   "metadata": {},
   "source": [
    "One really nice thing about <tt>find</tt> is that it can also take a _starting point_ where it will start looking!\n",
    "\n",
    "We really want to start _after_ the word <tt>\"snacks\"</tt> appears!  Let's find it:"
   ]
  },
  {
   "cell_type": "code",
   "execution_count": 8,
   "metadata": {},
   "outputs": [
    {
     "name": "stdout",
     "output_type": "stream",
     "text": [
      "442\n"
     ]
    }
   ],
   "source": [
    "snack_index = text.find(\"snacks\")\n",
    "print(f\"{snack_index}\")"
   ]
  },
  {
   "cell_type": "markdown",
   "metadata": {},
   "source": [
    "Now, let's use the same technique as above to find the HTML _list item_ after <tt>snack_index</tt>\n",
    "  + Notice the use of snack_index as the optional <tt>start</tt> input argument:"
   ]
  },
  {
   "cell_type": "code",
   "execution_count": 9,
   "metadata": {},
   "outputs": [
    {
     "name": "stdout",
     "output_type": "stream",
     "text": [
      "(490, 518)\n",
      "\n",
      "<li class=\"latte\"> Poptarts \n"
     ]
    }
   ],
   "source": [
    "start_index = text.find(\"<li\", snack_index)\n",
    "end_index = text.find(\"</li>\", snack_index)\n",
    "print(f\"{(start_index, end_index)}\")\n",
    "print()\n",
    "\n",
    "# let's get the substring!\n",
    "substring = text[ start_index : end_index ]\n",
    "print(f\"{substring}\")"
   ]
  },
  {
   "cell_type": "markdown",
   "metadata": {},
   "source": [
    "#### We should build a function!"
   ]
  },
  {
   "cell_type": "code",
   "execution_count": 10,
   "metadata": {},
   "outputs": [
    {
     "data": {
      "text/plain": [
       "-1"
      ]
     },
     "execution_count": 10,
     "metadata": {},
     "output_type": "execute_result"
    }
   ],
   "source": [
    "\"abc\".find(\"a\",-1)"
   ]
  },
  {
   "cell_type": "code",
   "execution_count": 11,
   "metadata": {},
   "outputs": [
    {
     "name": "stdout",
     "output_type": "stream",
     "text": [
      " ('<li class=\"answer\"> 42 ', 169, 192) \n",
      " ('<li class=\"latte\"> Poptarts ', 490, 518)\n"
     ]
    }
   ],
   "source": [
    "def get_list_item(text, starting_pt=0):\n",
    "    \"\"\" returns the <li ... </li> after starting_pt in text \"\"\"\n",
    "    start_index = text.find(\"<li\", starting_pt)\n",
    "    end_index = text.find(\"</li>\", start_index)  # do you see why this is better?!\n",
    "    # print(f\"{(start_index, end_index) = }\")\n",
    "    substring = text[ start_index : end_index ]  # let's get the substring!\n",
    "    return substring, start_index, end_index\n",
    "\n",
    "if True:\n",
    "    result0 = get_list_item(text)\n",
    "    result442 = get_list_item(text,442)\n",
    "    print(f\" {result0} \\n {result442 }\")"
   ]
  },
  {
   "cell_type": "markdown",
   "metadata": {},
   "source": [
    "#### We should write a loop!"
   ]
  },
  {
   "cell_type": "code",
   "execution_count": 12,
   "metadata": {},
   "outputs": [
    {
     "name": "stdout",
     "output_type": "stream",
     "text": [
      "<li class=\"latte\"> Poptarts \n",
      "<li class=\"latte\"> Chocolate \n",
      "<li class=\"dedecaf\"> Coffee \n"
     ]
    }
   ],
   "source": [
    "starting_pt = text.find(\"snacks\")\n",
    "\n",
    "ListItems = []\n",
    "\n",
    "while True:\n",
    "    substring, start_index, end_index = get_list_item(text, starting_pt)\n",
    "    if end_index != -1:  # if it's a valid substring\n",
    "        ListItems.append(substring)\n",
    "        print(substring)\n",
    "        starting_pt = end_index  \n",
    "    else:\n",
    "        break\n",
    "\n"
   ]
  },
  {
   "cell_type": "markdown",
   "metadata": {},
   "source": [
    "<hr>\n",
    "\n",
    "### Work on Homework 3 Problem 1.\n",
    "\n",
    "<hr>"
   ]
  },
  {
   "cell_type": "markdown",
   "metadata": {},
   "source": [
    "Onward to <b>Part 2</b>, writing your own web-engine (with regular expressions) \n",
    "  + We'll start by introducing _regular expressions_ - we'll see they provide a nice way to \"grab\" the <tt>&lt;li&gt;</tt> items from HTML...\n",
    "  + In fact, they're a great toolset for pretty much ***any*** text-extraction at all!\n",
    "\n",
    "  <br><br>"
   ]
  },
  {
   "cell_type": "markdown",
   "metadata": {},
   "source": [
    "#### <font style=\"color:rgb(180,120,10);\"><b>Part 2</b>  &nbsp; Regular Expressions: &nbsp;  A _better_ approach to list-item finding and extracting...</font>\n",
    "\n",
    "The list-item example above used one function to find the items and another to \"clearn them up.\"\n",
    "  + This is great! And, will work for absolutely anything you need (adding functions as you go...)\n",
    "\n",
    "**However**, there is a very powerful \"mini\" pattern-matching language that can help with many text-processing tasks: ***regular expressions***\n",
    "  + Sometimes called <tt>regex</tt>'es or <tt>re</tt>'s,\n",
    "  + regular expressions are a very compact languages for matching text patterns.\n",
    "  + the Python library is <tt>re</tt>\n",
    "\n",
    "Before unpacking the regex language, let's see it in action for the \"handle list-item tags\" challenge:"
   ]
  },
  {
   "cell_type": "code",
   "execution_count": 13,
   "metadata": {},
   "outputs": [
    {
     "name": "stdout",
     "output_type": "stream",
     "text": [
      "   pre_SNACKS!  <li class=\"latte\"> Poptarts </li>\n",
      "                        <li class=\"latte\"> Chocolate </li>  \n",
      "                              <li class=\"dedecaf\"> Coffee </li>   post_SNACKS!\n",
      "            \n"
     ]
    }
   ],
   "source": [
    "import re\n",
    "\n",
    "# here is a small bit of the snack-page HTML text:\n",
    "textpiece = \"\"\"   pre_snacks  <li class=\"latte\"> Poptarts </li>\n",
    "                        <li class=\"latte\"> Chocolate </li>  \n",
    "                              <li class=\"dedecaf\"> Coffee </li>   post_snacks\n",
    "            \"\"\"          \n",
    "\n",
    "# here is an example substitution (sub) using a regular expression:\n",
    "\n",
    "result = re.sub(r\"snacks\", \"SNACKS!\", textpiece)   # replaces \"snacks\" with \"SNACKS!\"  # let's try it with latte, too! with li?!\n",
    "print(result)"
   ]
  },
  {
   "cell_type": "code",
   "execution_count": 14,
   "metadata": {},
   "outputs": [
    {
     "name": "stdout",
     "output_type": "stream",
     "text": [
      "   pre_snacks   Poptarts \n",
      "                         Chocolate   \n",
      "                               Coffee    post_snacks\n",
      "            \n"
     ]
    }
   ],
   "source": [
    "# REs are a whole language! Let's see a more strategic use of regular expressions...\n",
    "\n",
    "m = re.sub(r'<li.*>(.*)</li>', r'\\1', textpiece )      # Yikes!    Common functions: findall, sub, search, match  \n",
    "\n",
    "print(f\"{m}\")                                    # Wow!"
   ]
  },
  {
   "cell_type": "code",
   "execution_count": 15,
   "metadata": {},
   "outputs": [
    {
     "name": "stdout",
     "output_type": "stream",
     "text": [
      "[' Poptarts ', ' Chocolate ', ' Coffee ']\n"
     ]
    }
   ],
   "source": [
    "# REs are a whole language! Let's see a more strategic use of regular expressions...\n",
    "\n",
    "m = re.findall(r'<li.*>(.*)</li>', textpiece )      # Yikes!    Common functions: findall, sub, search, match  \n",
    "\n",
    "print(f\"{m}\")                                    # Wow!"
   ]
  },
  {
   "cell_type": "markdown",
   "metadata": {},
   "source": [
    "Regular expressions!  &nbsp;&nbsp; No turning back now...  😊\n",
    "\n",
    "Let's build up to that large example above:"
   ]
  },
  {
   "cell_type": "code",
   "execution_count": 16,
   "metadata": {},
   "outputs": [
    {
     "data": {
      "text/plain": [
       "'Mildred Mudd'"
      ]
     },
     "execution_count": 16,
     "metadata": {},
     "output_type": "execute_result"
    }
   ],
   "source": [
    "# Let's try some smaller examples to build up to the above (crazy!) example\n",
    "\n",
    "# fundamental capability:  regex substitution  \n",
    "#\n",
    "#    the regex:\n",
    "#      matcher:    replacer:   in this string:\n",
    "re.sub(r\"Harvey\",  \"Mildred\",  \"Harvey Mudd\")           # the 'r' is for 'raw' strings. They're best for re's."
   ]
  },
  {
   "cell_type": "code",
   "execution_count": 17,
   "metadata": {},
   "outputs": [
    {
     "data": {
      "text/plain": [
       "['Harvey', 'Harvey']"
      ]
     },
     "execution_count": 17,
     "metadata": {},
     "output_type": "execute_result"
    }
   ],
   "source": [
    "re.findall(r\"Harvey\",  \"Harvey Mudd (Harvey!)\")       # findall works: not as interesting... (try H vs. h; add . or ..)"
   ]
  },
  {
   "cell_type": "code",
   "execution_count": 18,
   "metadata": {},
   "outputs": [
    {
     "data": {
      "text/plain": [
       "'This cat is cateful!'"
      ]
     },
     "execution_count": 18,
     "metadata": {},
     "output_type": "execute_result"
    }
   ],
   "source": [
    "re.sub(r\"car\", \"cat\",  \"This car is careful!\")          # we'll stick with substitution for now...  uh oh!  space or ,1"
   ]
  },
  {
   "cell_type": "code",
   "execution_count": 19,
   "metadata": {},
   "outputs": [
    {
     "data": {
      "text/plain": [
       "'Harvey Mudd'"
      ]
     },
     "execution_count": 19,
     "metadata": {},
     "output_type": "execute_result"
    }
   ],
   "source": [
    "re.sub(r\"d\", \"dd\", \"Harvey Mud\")          # try \"Mildred Mudd\""
   ]
  },
  {
   "cell_type": "code",
   "execution_count": 20,
   "metadata": {},
   "outputs": [
    {
     "data": {
      "text/plain": [
       "'Mildred Mudd'"
      ]
     },
     "execution_count": 20,
     "metadata": {},
     "output_type": "execute_result"
    }
   ],
   "source": [
    "# ANCHORS:  Patterns can be anchored:   $ meand the _end_\n",
    "re.sub(r\"d$\", \"dd\", \"Mildred Mud\" )   # $ signifies (matches) the END of the line"
   ]
  },
  {
   "cell_type": "code",
   "execution_count": 21,
   "metadata": {},
   "outputs": [
    {
     "data": {
      "text/plain": [
       "'ℳildred Mudd'"
      ]
     },
     "execution_count": 21,
     "metadata": {},
     "output_type": "execute_result"
    }
   ],
   "source": [
    "# ANCHORS:  Patterns can be anchored:   ^  means the _start_ \n",
    "re.sub(r\"^M\", \"ℳ\", \"Mildred Mudd\" )   # ^ signifies (matches) the START of the line  (unicode M :)"
   ]
  },
  {
   "cell_type": "code",
   "execution_count": 22,
   "metadata": {},
   "outputs": [
    {
     "data": {
      "text/plain": [
       "\"Isn't the alien sking this weekend? AiIIIiIIIeee!\""
      ]
     },
     "execution_count": 22,
     "metadata": {},
     "output_type": "execute_result"
    }
   ],
   "source": [
    "# PLUS  +   means one or more:\n",
    "re.sub(r\"i+\", \"i\", \"Isn't the aliiien skiing this weekend? AiiiIIIiiiiIIIeee!\" )   # try replacing with \"\" or \"I\" or \"𝒾\" or \"ⓘ\""
   ]
  },
  {
   "cell_type": "code",
   "execution_count": 23,
   "metadata": {},
   "outputs": [
    {
     "data": {
      "text/plain": [
       "\"isn't the alien sking this weekend? Aieee!\""
      ]
     },
     "execution_count": 23,
     "metadata": {},
     "output_type": "execute_result"
    }
   ],
   "source": [
    "# SquareBrackets  [iI]  mean any from that character group:\n",
    "re.sub(r\"[Ii]+\", \"i\", \"Isn't the aliiien skiing this weekend? AiiiIIIiiiiIIIeee!\" )   # it can vary within the group!"
   ]
  },
  {
   "cell_type": "code",
   "execution_count": 24,
   "metadata": {},
   "outputs": [
    {
     "data": {
      "text/plain": [
       "\"A**! Y**'** FOUND ** ******: 42!\""
      ]
     },
     "execution_count": 24,
     "metadata": {},
     "output_type": "execute_result"
    }
   ],
   "source": [
    "# SquareBrackets allow ranges, e.g., [a-z]\n",
    "re.sub(r\"[a-z]\", \"*\", \"Aha! You've FOUND my secret: 42!\")       # use a +,  add A-Z, show \\w, for \"word\" character"
   ]
  },
  {
   "cell_type": "code",
   "execution_count": 25,
   "metadata": {},
   "outputs": [
    {
     "data": {
      "text/plain": [
       "'Aliens <42 pets! They have 42 cats, 42 lemurs, and 42 manatees!'"
      ]
     },
     "execution_count": 25,
     "metadata": {},
     "output_type": "execute_result"
    }
   ],
   "source": [
    "# Let's try the range [0-9] and +\n",
    "re.sub(r\"[0-9]+\", \"42\",  \"Aliens <3 pets! They have 45 cats, 6 lemurs, and 789 manatees!\")   # DISCUSS!  no +? How to fix?!"
   ]
  },
  {
   "cell_type": "markdown",
   "metadata": {},
   "source": [
    "Ok! &nbsp;&nbsp; Let's expand our thought experiments:"
   ]
  },
  {
   "cell_type": "code",
   "execution_count": 26,
   "metadata": {},
   "outputs": [
    {
     "data": {
      "text/plain": [
       "'-S'"
      ]
     },
     "execution_count": 26,
     "metadata": {},
     "output_type": "execute_result"
    }
   ],
   "source": [
    "re.sub( r\"or\", \"and\", \"words or phrases\" )\n",
    "re.sub( r\"s\", \"-\", \"words or phrases\" )\n",
    "re.sub( r\"[aeiou]\", \"-\", \"words or phrases\" )\n",
    "\n",
    "re.sub( r\"$\", \" [end]\", \"words or phrases\" )\n",
    "re.sub( r\"^\", \"[start] \", \"words or phrases\" )\n",
    "\n",
    "# Challenge! The dot . matches _any_ single character:  \n",
    "re.sub( r\".\", \"-\", \"words or phrases\" )   # What will this do?\n",
    "\n",
    "re.sub( r\".s\", \"-S\", \"words or phrases\" )  # And this one?!\n",
    "\n",
    "re.sub( r\".+s\", \"-S\", \"words or phrases\" )  # And this one?!!"
   ]
  },
  {
   "cell_type": "markdown",
   "metadata": {},
   "source": [
    "#### Let's try a _physical_ matching of these examples above..."
   ]
  },
  {
   "cell_type": "markdown",
   "metadata": {},
   "source": [
    "There is one more \"common\" regular expression element. &nbsp;&nbsp; The star * means \"zero or more\" of what precedes it...\n",
    "\n",
    "It's similar to the plus + (which means 1 or more), _but * also allows for 0 times_ !  &nbsp;&nbsp; This can be mind-bending..."
   ]
  },
  {
   "cell_type": "code",
   "execution_count": 27,
   "metadata": {},
   "outputs": [
    {
     "data": {
      "text/plain": [
       "'The safe combination is # - # - # - # '"
      ]
     },
     "execution_count": 27,
     "metadata": {},
     "output_type": "execute_result"
    }
   ],
   "source": [
    "# The * matches zero-or-more of the preceding pattern  Let's try it:\n",
    "\n",
    "re.sub( r\" [0-9]+ \", \" # \", 'The safe combination is 42 - 47 - 101 - 46 ' )   # try with *, and remove the 101 ... "
   ]
  },
  {
   "cell_type": "markdown",
   "metadata": {},
   "source": [
    "####   Ok!  Let's switch to a more <font color=\"DodgerBlue\"><b>hands-on</b></font> medium: &nbsp;&nbsp; _paper!_\n",
    "\n",
    "... to try out our ``\"alabama\"`` and ``\"Google\"`` regular-expression challenges... :) \n",
    "\n",
    "<br><br>"
   ]
  },
  {
   "cell_type": "markdown",
   "metadata": {},
   "source": [
    "We now have ***almost*** everything in that list-item-handling example from a while back. \n",
    "\n",
    "Let's take a look -- and add the idea of a _capture group_   &nbsp;&nbsp; (using parens)"
   ]
  },
  {
   "cell_type": "code",
   "execution_count": 28,
   "metadata": {},
   "outputs": [
    {
     "name": "stdout",
     "output_type": "stream",
     "text": [
      "[' Poptarts ', ' Chocolate ', ' Coffee ']\n"
     ]
    }
   ],
   "source": [
    "textpiece = \"\"\"   pre_snacks  <li class=\"latte\"> Poptarts </li> \n",
    "                        <li class=\"latte\"> Chocolate </li>  \n",
    "                        <li class=\"dedecaf\"> Coffee </li>   post_snacks\n",
    "            \"\"\"    \n",
    "\n",
    "m = re.findall(r'<li.*>(.*)</li>',textpiece )      # the parens are a \"capture group\"   # try w/o it  # try search & sub\n",
    "                                                   # each set of parents \"captures\" the text inside it\n",
    "print(f\"{m}\")                                   # it can even be used later, as \\1, \\2, \\3, etc. "
   ]
  },
  {
   "cell_type": "markdown",
   "metadata": {},
   "source": [
    "We'll practice more with these in lab on Tuesday evening:\n",
    "+ we have a series of warm-up challenges...\n",
    "+ and then some example \"serious\" regex applications...\n",
    "+ and some not-so-serious ones, too (crosswords)...\n",
    "\n",
    "As a prelude, let's do one \"serious\" example together: ***finding an email address***"
   ]
  },
  {
   "cell_type": "code",
   "execution_count": 29,
   "metadata": {},
   "outputs": [
    {
     "name": "stdout",
     "output_type": "stream",
     "text": [
      "['   pre_emails  zdodds@gmail.com   ']\n"
     ]
    }
   ],
   "source": [
    "filepiece = \"\"\"   pre_emails  zdodds@gmail.com   dodds@cs.hmc.edu\n",
    "                        Ran.Libeskind-Hadas@claremontmckenna.edu  hadas@cmc.edu  JaSoN_KeLleR@cCrAb.pacific.net  \n",
    "                        <a href=\"mailto:Jason.Keller@ClaremontMcKenna.edu\">Email Prof. Keller@this link!</a>  post_emails\n",
    "            \"\"\"  \n",
    "\n",
    "m = re.findall(r' .*gmail.* ',filepiece, re.M)     # this is wrong, but a start!\n",
    "                                                   \n",
    "print(f\"{m}\")                                   # let's build step-by-step... "
   ]
  },
  {
   "cell_type": "markdown",
   "metadata": {},
   "source": [
    "The next cell has the _starting markdown_ for our **markdown-to-markup** web engine.  \n",
    "\n",
    "Because the next cell ***is*** markdown -- and it's in a notebook _with_ a markdown engine -- you'll see the markup, as usual!\n",
    "+ As usual, you can see the markdown by double-clicking the cell\n",
    "+ It's also available as a Python string in the following cell..."
   ]
  },
  {
   "cell_type": "markdown",
   "metadata": {},
   "source": [
    "# Claremont's Colleges\n",
    "\n",
    "The Claremont Colleges are a *consortium* of **five** SoCal institutions. <br>\n",
    "We list them here.\n",
    "\n",
    "## The 5Cs: a list\n",
    "+ [Pomona](https://www.pomona.edu/)\n",
    "+ [CMC](https://www.cmc.edu/)\n",
    "+ [Pitzer](https://www.pitzer.edu/)\n",
    "+ [Scripps](https://www.scrippscollege.edu/)\n",
    "+ [HMC](https://www.hmc.edu/)\n",
    "\n",
    "The above's an _unordered_ list.  <br>\n",
    "At the 5Cs, we all agree there's __no__ order!\n",
    "\n",
    "---\n",
    "\n",
    "## Today's featured college: [CMC](https://coloradomtn.edu/)\n",
    "\n",
    "<img src=\"https://ygzm5vgh89zp-u4384.pressidiumcdn.com/wp-content/uploads/2017/06/GWS_campusview_1000x627.jpg\" height=160>\n",
    "\n",
    "--\n",
    "\n",
    "### Also featured: &nbsp; Scripps and Pitzer and Mudd\n",
    "\n",
    "<img src=\"https://i0.wp.com/tsl.news/wp-content/uploads/2018/09/scripps.png?w=1430&ssl=1\" height=100> &nbsp; \n",
    "<img src=\"https://www.pitzer.edu/communications/wp-content/uploads/sites/17/2023/09/clock-tower.png\" height=100> &nbsp; \n",
    "<img src=\"https://www.hmc.edu/about/wp-content/uploads/sites/2/2020/02/campus-gv.jpg\" height=100>\n",
    "\n",
    "Are there _other_ schools in Claremont?\n",
    "\n",
    "### Claremont destinations\n",
    "+ _Pepo Melo_, a fantastic font of fruit!\n",
    "+ **Starbucks**, the center of Claremont's \"city,\" not as good as Scripps's _Motley_ \n",
    "+ ***Sancho's Tacos***, the village's newest establishment\n",
    "+ ~~In-and-out Burger~~ (not in Claremont, alas, but close! CMC-supported!)\n",
    "+ `42`nd Street Bagel, an HMC fave, definitely _well-numbered_\n",
    "+ Trader Joe's, providing fuel for the walk back to Pitzer _from Trader Joe's_\n",
    "\n",
    "---\n",
    "\n",
    "#### Regular Expression Code-of-the-Day \n",
    "`import re`               \n",
    "`pet_statement = re.sub(r'dog', 'cat', 'I <3 dogs')`\n",
    "\n",
    "#### New Construction of the ~~Day~~ _Decade_!\n",
    "\n",
    "<img src=\"https://www.cs.hmc.edu/~dodds/roberts_uc.png\" height=150> <br><br>\n",
    "\n",
    "CMC's **_Roberts Science Center_, also known as _\"The Rubik Cube\"_** <br>\n",
    "Currently under construction, under water, and undeterred by the SoCal rain... \n",
    "\n",
    "<br><br>\n"
   ]
  },
  {
   "cell_type": "code",
   "execution_count": 30,
   "metadata": {},
   "outputs": [],
   "source": [
    "#\n",
    "# Here is a code cell, with the entire first-draft markdown of the previous cell stored in a Python variable,   original_markdown \n",
    "#\n",
    "\n",
    "original_markdown = \"\"\"\n",
    "\n",
    "# Claremont's Colleges\n",
    "\n",
    "The Claremont Colleges are a *consortium* of **five** SoCal institutions. <br>\n",
    "We list them here.\n",
    "\n",
    "## The 5Cs: a list\n",
    "+ [Pomona](https://www.pomona.edu/)\n",
    "+ [CMC](https://www.cmc.edu/)\n",
    "+ [Pitzer](https://www.pitzer.edu/)\n",
    "+ [Scripps](https://www.scrippscollege.edu/)\n",
    "+ [HMC](https://www.hmc.edu/)\n",
    "\n",
    "The above's an _unordered_ list.  <br>\n",
    "At the 5Cs, we all agree there's __no__ order!\n",
    "\n",
    "---\n",
    "\n",
    "## Today's featured college: [CMC](https://coloradomtn.edu/)\n",
    "\n",
    "<img src=\"https://ygzm5vgh89zp-u4384.pressidiumcdn.com/wp-content/uploads/2017/06/GWS_campusview_1000x627.jpg\" height=160>\n",
    "\n",
    "--\n",
    "\n",
    "### Also featured: &nbsp; Scripps and Pitzer and Mudd\n",
    "\n",
    "<img src=\"https://i0.wp.com/tsl.news/wp-content/uploads/2018/09/scripps.png?w=1430&ssl=1\" height=100> &nbsp; \n",
    "<img src=\"https://www.pitzer.edu/communications/wp-content/uploads/sites/17/2023/09/clock-tower.png\" height=100> &nbsp; \n",
    "<img src=\"https://www.hmc.edu/about/wp-content/uploads/sites/2/2020/02/campus-gv.jpg\" height=100>\n",
    "\n",
    "Are there _other_ schools in Claremont?\n",
    "\n",
    "### Claremont destinations\n",
    "+ _Pepo Melo_, a fantastic font of fruit!\n",
    "+ **Starbucks**, the center of Claremont's \"city,\" not as good as Scripps's _Motley_ \n",
    "+ ***Sancho's Tacos***, the village's newest establishment\n",
    "+ ~~In-and-out Burger~~ (not in Claremont, alas, but close! CMC-supported!)\n",
    "+ `42`nd Street Bagel, an HMC fave, definitely _well-numbered_\n",
    "+ Trader Joe's, providing fuel for the walk back to Pitzer _from Trader Joe's_\n",
    "\n",
    "---\n",
    "\n",
    "#### Regular Expression Code-of-the-Day \n",
    "`import re`               \n",
    "`pet_statement = re.sub(r'dog', 'cat', 'I <3 dogs')`\n",
    "\n",
    "#### New Construction of the ~~Day~~ _Decade_!\n",
    "\n",
    "<img src=\"https://www.cs.hmc.edu/~dodds/roberts_uc.png\" height=150> <br><br>\n",
    "\n",
    "CMC's **_Roberts Science Center_, also known as _\"The Rubik Cube\"_** <br>\n",
    "Currently under construction, under water, and undeterred by the SoCal rain... \n",
    "\n",
    "<br><br>\n",
    "\n",
    "\"\"\""
   ]
  },
  {
   "cell_type": "code",
   "execution_count": 31,
   "metadata": {},
   "outputs": [],
   "source": [
    "#\n",
    "# here is a function to write a string to a file (default name: output.html)\n",
    "#\n",
    "\n",
    "def write_to_file(contents, filename=\"output.html\"):\n",
    "    \"\"\" writes the string final_contents to the file filename \"\"\"\n",
    "    f = open(filename,\"w\")\n",
    "    print(contents, file=f)\n",
    "    f.close()"
   ]
  },
  {
   "cell_type": "markdown",
   "metadata": {},
   "source": [
    "#### <b>Your task</b> is to create a set of functions that create a markdown-to-markup transformer!\n",
    "+ <b>including</b> at least these existing markdown features: headers, bold, italic, strikethrough (for Toby!), url-links, and item-lists\n",
    "+ <b>and you should design</b> at least three new markdown-features of your own. <font size=\"-2\">(This is ***modern*** markdown, not that stodgy markdown from the 90's!)</font>\n",
    "+ The assignment page has several suggestions. You'll add to the markdown source to show off your new features (and customize)\n",
    "\n",
    "<hr>\n",
    "\n",
    "To get started, the following cells have a couple of example transformations: \n",
    "+ how to convert all of the newlines to <tt>&lt;br&gt;</tt>\n",
    "+ how to handle the <tt># </tt>  top-level headers, which use <tt>&lt;h1&gt;</tt> and  <tt>&lt;/h1&gt;</tt> around their contents\n",
    "+ how to handle fixed-width (<tt>code-type</tt>) text, which converts backticks <tt>`</tt> to <tt>&lt;tt&gt;</tt>, e.g., <tt>&#96;code&#96;</tt> to <tt>&lt;tt&gt;code&lt;/tt&gt;</tt>\n",
    "\n",
    "It writes out the result to a file. \n",
    "+ Reload it directly in a browser to see how well it's doing.\n",
    "+ Then, dive into the other changes..."
   ]
  },
  {
   "cell_type": "code",
   "execution_count": 32,
   "metadata": {},
   "outputs": [],
   "source": [
    "#\n",
    "# overall mardown-to-markup transformer\n",
    "#\n",
    "\n",
    "contents_v0 = original_markdown              # here is the input - be sure to run the functions, below:\n",
    "\n",
    "# contents_v1 = handle_newlines(contents_v0)   #   blank lines to <br>\n",
    "# contents_v2 = handle_headers(contents_v1)    #   # title to <h1>title</h1>  (more needed: ## to <h2>, ... up to <h6>)\n",
    "# contents_v3 = handle_code(contents_v2)       #   `code` to <tt>code</tt>\n",
    "\n",
    "final_contents = contents_v0                 # here is the output\n",
    "\n",
    "write_to_file(final_contents, \"output.html\") # now, written to file:  Reload it in your browser!"
   ]
  },
  {
   "cell_type": "code",
   "execution_count": 34,
   "metadata": {},
   "outputs": [
    {
     "name": "stdout",
     "output_type": "stream",
     "text": [
      "\n",
      "\n",
      "# Claremont's Colleges\n",
      "\n",
      "The Claremont Colleges are a *consortium* of **five** SoCal institutions. <br>\n",
      "We list them here.\n",
      "\n",
      "## The 5Cs: a list\n",
      "+ [Pomona](https://www.pomona.edu/)\n",
      "+ [CMC](https://www.cmc.edu/)\n",
      "+ [Pitzer](https://www.pitzer.edu/)\n",
      "+ [Scripps](https://www.scrippscollege.edu/)\n",
      "+ [HMC](https://www.hmc.edu/)\n",
      "\n",
      "The above's an _unordered_ list.  <br>\n",
      "At the 5Cs, we all agree there's __no__ order!\n",
      "\n",
      "---\n",
      "\n",
      "## Today's featured college: [CMC](https://coloradomtn.edu/)\n",
      "\n",
      "<img src=\"https://ygzm5vgh89zp-u4384.pressidiumcdn.com/wp-content/uploads/2017/06/GWS_campusview_1000x627.jpg\" height=160>\n",
      "\n",
      "--\n",
      "\n",
      "### Also featured: &nbsp; Scripps and Pitzer and Mudd\n",
      "\n",
      "<img src=\"https://i0.wp.com/tsl.news/wp-content/uploads/2018/09/scripps.png?w=1430&ssl=1\" height=100> &nbsp; \n",
      "<img src=\"https://www.pitzer.edu/communications/wp-content/uploads/sites/17/2023/09/clock-tower.png\" height=100> &nbsp; \n",
      "<img src=\"https://www.hmc.edu/about/wp-content/uploads/sites/2/2020/02/campus-gv.jpg\" height=100>\n",
      "\n",
      "Are there _other_ schools in Claremont?\n",
      "\n",
      "### Claremont destinations\n",
      "+ _Pepo Melo_, a fantastic font of fruit!\n",
      "+ **Starbucks**, the center of Claremont's \"city,\" not as good as Scripps's _Motley_ \n",
      "+ ***Sancho's Tacos***, the village's newest establishment\n",
      "+ ~~In-and-out Burger~~ (not in Claremont, alas, but close! CMC-supported!)\n",
      "+ `42`nd Street Bagel, an HMC fave, definitely _well-numbered_\n",
      "+ Trader Joe's, providing fuel for the walk back to Pitzer _from Trader Joe's_\n",
      "\n",
      "---\n",
      "\n",
      "#### Regular Expression Code-of-the-Day \n",
      "`import re`               \n",
      "`pet_statement = re.sub(r'dog', 'cat', 'I <3 dogs')`\n",
      "\n",
      "#### New Construction of the ~~Day~~ _Decade_!\n",
      "\n",
      "<img src=\"https://www.cs.hmc.edu/~dodds/roberts_uc.png\" height=150> <br><br>\n",
      "\n",
      "CMC's **_Roberts Science Center_, also known as _\"The Rubik Cube\"_** <br>\n",
      "Currently under construction, under water, and undeterred by the SoCal rain... \n",
      "\n",
      "<br><br>\n",
      "\n",
      "\n"
     ]
    }
   ],
   "source": [
    "# we can print the final output's source\n",
    "print(final_contents)    # Usually, first reload output.html in your browser - this can help debug..."
   ]
  },
  {
   "cell_type": "code",
   "execution_count": 33,
   "metadata": {},
   "outputs": [
    {
     "name": "stdout",
     "output_type": "stream",
     "text": [
      "# Title  \n",
      "<br>\n",
      "# Another title\n"
     ]
    }
   ],
   "source": [
    "# here is a function to handle blank lines (making them <br>)\n",
    "#\n",
    "\n",
    "def handle_newlines(contents):\n",
    "    \"\"\" replace all of the just-newline characters \\n with HTML newlines <br> \"\"\"\n",
    "    NewLines = []\n",
    "    OldLines = contents.split(\"\\n\")\n",
    "\n",
    "    for line in OldLines:\n",
    "        new_line = re.sub(r\"^\\s*$\", r\"<br>\", line)  # if it has only space characters, \\s, we make an HTML newline <br>\n",
    "        NewLines.append(new_line)\n",
    "\n",
    "    new_contents = \"\\n\".join(NewLines)   # join with \\n characters so it's readable by humans\n",
    "    return new_contents\n",
    "\n",
    "if True:\n",
    "    contents = \"# Title  \\n    \\n# Another title\"\n",
    "    new_contents = handle_newlines(contents)\n",
    "    print(new_contents)"
   ]
  },
  {
   "cell_type": "code",
   "execution_count": 34,
   "metadata": {},
   "outputs": [
    {
     "name": "stdout",
     "output_type": "stream",
     "text": [
      "<h1>Title  </h1>\n",
      "<br>\n",
      "<h1>Another title</h1>\n"
     ]
    }
   ],
   "source": [
    "# here is a function to handle headers - right now only h1 (top-level)\n",
    "#\n",
    "\n",
    "def handle_headers(contents):\n",
    "    \"\"\" replace all of the #, ##, ###, ... ###### headers with <h1>, <h2>, <h3>, ... <h6> \"\"\"\n",
    "    NewLines = []\n",
    "    OldLines = contents.split(\"\\n\")\n",
    "\n",
    "    for line in OldLines:\n",
    "        new_line = re.sub(r\"^# (.*)$\", r\"<h1>\\1</h1>\", line)  # capture the contents and wrap with <h1> and </h1>\n",
    "                                                              # Aha! You will be able to handle the other headers here!\n",
    "        NewLines.append(new_line)\n",
    "\n",
    "    new_contents = \"\\n\".join(NewLines)   # join with \\n characters so it's readable by humans\n",
    "    return new_contents\n",
    "\n",
    "if True:\n",
    "    contents = \"# Title  \\n<br>\\n# Another title\"\n",
    "    new_contents = handle_headers(contents)\n",
    "    print(new_contents)"
   ]
  },
  {
   "cell_type": "code",
   "execution_count": 35,
   "metadata": {},
   "outputs": [
    {
     "name": "stdout",
     "output_type": "stream",
     "text": [
      "This is <tt>42</tt>   \n",
      "<br> \n",
      " Our library:  <tt>import re</tt>\n"
     ]
    }
   ],
   "source": [
    "# here is a function to handle code - using markdown backticks\n",
    "#\n",
    "\n",
    "def handle_code(contents):\n",
    "    \"\"\" replace all of the backtick content with <code> </code> \"\"\"\n",
    "    NewLines = []\n",
    "    OldLines = contents.split(\"\\n\")\n",
    "\n",
    "    for line in OldLines:\n",
    "        new_line = re.sub(r\"`(.*)`\", r\"<tt>\\1</tt>\", line)  # capture the contents and wrap with <code> and </code>\n",
    "        NewLines.append(new_line)\n",
    "\n",
    "    new_contents = \"\\n\".join(NewLines)   # join with \\n characters so it's readable by humans\n",
    "    return new_contents\n",
    "\n",
    "if True:\n",
    "    contents = \"This is `42`   \\n<br> \\n Our library:  `import re`\"\n",
    "    new_contents = handle_code(contents)\n",
    "    print(new_contents)"
   ]
  },
  {
   "cell_type": "markdown",
   "metadata": {},
   "source": [
    "### _Example_ &nbsp;&nbsp; Superbowl prediction based on the _\"wisdom of the web\"_ ..."
   ]
  },
  {
   "cell_type": "code",
   "execution_count": 36,
   "metadata": {},
   "outputs": [
    {
     "name": "stdout",
     "output_type": "stream",
     "text": [
      "664037\n"
     ]
    }
   ],
   "source": [
    "import requests\n",
    "\n",
    "def get_wikipedia_page(url):\n",
    "    \"\"\" returns the text from the wikipedia page, provided a url \"\"\"\n",
    "    url = \"https://en.wikipedia.org/wiki/\" + url\n",
    "    result = requests.get(url)\n",
    "    # print(result)\n",
    "    text = result.text.lower()\n",
    "    # print(f\"{len(text) = }\")\n",
    "    return text\n",
    "\n",
    "if True:\n",
    "    url = \"Pittsburgh_Steelers\"\n",
    "    # url = \"Kansas_City_Chiefs\"\n",
    "    # url = \"Pomona_College\"\n",
    "    text_team = get_wikipedia_page(url)\n",
    "    print(f\"{len(text_team) }\")"
   ]
  },
  {
   "cell_type": "code",
   "execution_count": 37,
   "metadata": {},
   "outputs": [
    {
     "name": "stdout",
     "output_type": "stream",
     "text": [
      "['black', 'gold']\n"
     ]
    }
   ],
   "source": [
    "import re \n",
    "\n",
    "def team_colors(text_team):\n",
    "    \"\"\" returns the top-ten-color score, or 0 if not in the top-ten list... \"\"\"\n",
    "\n",
    "    s = \"team colors\"\n",
    "    i = text_team.find(s)\n",
    "    if i == -1:\n",
    "        print(\"No team colors... checking for school colors\")\n",
    "        s = \"school colors\"\n",
    "        i = text_team.find(s)\n",
    "        if i == -1:\n",
    "            print(\"No colors at all!\")\n",
    "            return []\n",
    "    # sequence of strings to find the colors...\n",
    "    i2 = text_team.find(\"infobox-data\",i+1)\n",
    "    i3 = text_team.find(\">\",i2+1)\n",
    "    i4 = text_team.find(\"<\",i3+1)\n",
    "    if i4 == i3 + 1:  # but, some have a different format!\n",
    "        i2 = text_team.find(\"&#160;\",i4+1)\n",
    "        i2 = text_team.find(\"&#160;\",i2+1)\n",
    "        i3 = text_team.find(\">\",i2+1)\n",
    "        i4 = text_team.find(\"<\",i3+1)\n",
    "        print(f\"{(i3,i4) }\")\n",
    "    \n",
    "    # got it!  Let's substitute to be comma-separated:\n",
    "    s = text_team[i3+1:i4]\n",
    "    s = re.sub(\"and\",\",\",s)\n",
    "    s = re.sub(\"&amp;\",\",\",s)\n",
    "    L = s.split(\",\")\n",
    "    L = [s.strip() for s in L]\n",
    "    # print(L)\n",
    "    return L\n",
    "\n",
    "if True:\n",
    "    result = team_colors(text_team)\n",
    "    print(f\"{result }\")"
   ]
  },
  {
   "cell_type": "code",
   "execution_count": 38,
   "metadata": {},
   "outputs": [
    {
     "name": "stdout",
     "output_type": "stream",
     "text": [
      "<Response [200]>\n",
      "98464\n"
     ]
    }
   ],
   "source": [
    "import requests\n",
    "\n",
    "url = \"https://www.thetoptens.com/colors/top-ten-favorite-colors/\"  # uh oh!  now dynamically loading...\n",
    "url = \"https://web.archive.org/web/20211130204459/https://www.thetoptens.com/colors/top-ten-favorite-colors/\"\n",
    "result = requests.get(url)\n",
    "print(result)\n",
    "text_colors = result.text.lower()\n",
    "print(f\"{len(text_colors) }\")"
   ]
  },
  {
   "cell_type": "code",
   "execution_count": 39,
   "metadata": {},
   "outputs": [
    {
     "name": "stdout",
     "output_type": "stream",
     "text": [
      "8 for gold\n"
     ]
    }
   ],
   "source": [
    "def color_score(color, text_colors):\n",
    "    \"\"\" returns the top-ten-color score, or 0 if not in the top-ten list... \"\"\"\n",
    "    color = color.lower()\n",
    "    s = f'<b>{color}</b>'\n",
    "    i = text_colors.find(s)\n",
    "    if i == -1: return 0  # not found\n",
    "\n",
    "    i2 = text_colors.rfind(\"<\",0,i-2)  # looks left! (will be one to the right of the numeric \"score\")\n",
    "    i3 = text_colors.rfind(\">\",0,i2)   # looks left! (will be one to the left of the numeric \"score\")\n",
    "    top_ten_color_score = int(text_colors[i3+1:i2])\n",
    "    return top_ten_color_score\n",
    "    # print(f\"{i3 =}\")\n",
    "    # print(text_colors[i3+1:i2])  # this one!\n",
    "    # print(text_colors[i3+1:i2+25])\n",
    "\n",
    "if True:\n",
    "    color = \"gold\"\n",
    "    score = color_score(color, text_colors)\n",
    "    print(f\"{score} for {color}\")"
   ]
  },
  {
   "cell_type": "code",
   "execution_count": 40,
   "metadata": {},
   "outputs": [
    {
     "name": "stdout",
     "output_type": "stream",
     "text": [
      "          violet : 21\n",
      "             red : 2\n",
      "23\n"
     ]
    }
   ],
   "source": [
    "def color_scores(colorL, text_colors):\n",
    "    \"\"\" returns the sum of the scores for the colors in colorL \"\"\"\n",
    "    total = 0\n",
    "    for color in colorL:\n",
    "        color = color.lower()\n",
    "        score = color_score(color, text_colors)\n",
    "        total += score\n",
    "        print(f\" {color:>15s} : {score}\")\n",
    "    return total\n",
    "\n",
    "if True:\n",
    "    colorL = [\"violet\", \"Red\"]\n",
    "    total = color_scores(colorL, text_colors)\n",
    "    print(f\"{total}\")"
   ]
  },
  {
   "cell_type": "code",
   "execution_count": 41,
   "metadata": {},
   "outputs": [
    {
     "name": "stdout",
     "output_type": "stream",
     "text": [
      "No team colors... checking for school colors\n",
      "No team colors... checking for school colors\n",
      "++++++++++++++++++++++++++++++++++++++++++\n",
      "+++ For Pomona_College\n",
      "            blue : 1\n",
      "           white : 9\n",
      "+++ total score: 10\n",
      "\n",
      "++++++++++++++++++++++++++++++++++++++++++\n",
      "+++ For Pitzer_College\n",
      "          orange : 6\n",
      "           white : 9\n",
      "+++ total score: 15\n"
     ]
    }
   ],
   "source": [
    "#\n",
    "# So, who wins?!\n",
    "#\n",
    "\n",
    "#\n",
    "# here are some urls to compare\n",
    "#\n",
    "\n",
    "\"San_Francisco_49ers\"\n",
    "\"Pittsburgh_Steelers\"\n",
    "\"Philadelphia_Eagles\"\n",
    "\"Kansas_City_Chiefs\"\n",
    "team1 = \"Pomona_College\"\n",
    "team2 = \"Pitzer_College\"\n",
    "\"Claremont_McKenna_College\"\n",
    "\"Scripps_College\"\n",
    "\"Harvey_Mudd_College\"\n",
    "\n",
    "team1_wikip = get_wikipedia_page(team1)\n",
    "team2_wikip = get_wikipedia_page(team2)\n",
    "\n",
    "color_list1 = team_colors(team1_wikip)\n",
    "color_list2 = team_colors(team2_wikip)\n",
    "\n",
    "print(\"+\"*42)\n",
    "print(f\"+++ For {team1}\")\n",
    "final_score1 = color_scores(color_list1,text_colors)\n",
    "print(f\"+++ total score: {final_score1}\\n\")\n",
    "print(\"+\"*42)\n",
    "print(f\"+++ For {team2}\")\n",
    "final_score2 = color_scores(color_list2,text_colors)\n",
    "print(f\"+++ total score: {final_score2}\")\n",
    "\n"
   ]
  }
 ],
 "metadata": {
  "kernelspec": {
   "display_name": "Python 3 (ipykernel)",
   "language": "python",
   "name": "python3"
  },
  "language_info": {
   "codemirror_mode": {
    "name": "ipython",
    "version": 3
   },
   "file_extension": ".py",
   "mimetype": "text/x-python",
   "name": "python",
   "nbconvert_exporter": "python",
   "pygments_lexer": "ipython3",
   "version": "3.7.15"
  }
 },
 "nbformat": 4,
 "nbformat_minor": 2
}
